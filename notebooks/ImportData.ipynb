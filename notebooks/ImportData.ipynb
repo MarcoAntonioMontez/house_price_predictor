{
 "cells": [
  {
   "cell_type": "code",
   "execution_count": 27,
   "metadata": {},
   "outputs": [],
   "source": [
    "import zipfile\n",
    "import os\n",
    "\n",
    "def import_raw_data():\n",
    "    \n",
    "    os.system(\"kaggle competitions download -c house-prices-advanced-regression-techniques\")\n",
    "    os.system(\"move house-prices-advanced-regression-techniques.zip ../data/raw\")\n",
    "    with zipfile.ZipFile(\"../data/raw/house-prices-advanced-regression-techniques.zip\",\"r\") as zip_ref:\n",
    "        zip_ref.extractall(\"../data/raw\")\n",
    "    os.remove(\"../data/raw/house-prices-advanced-regression-techniques.zip\")\n",
    "    \n",
    "    return"
   ]
  },
  {
   "cell_type": "code",
   "execution_count": null,
   "metadata": {},
   "outputs": [],
   "source": []
  }
 ],
 "metadata": {
  "kernelspec": {
   "display_name": "Python 3",
   "language": "python",
   "name": "python3"
  },
  "language_info": {
   "codemirror_mode": {
    "name": "ipython",
    "version": 3
   },
   "file_extension": ".py",
   "mimetype": "text/x-python",
   "name": "python",
   "nbconvert_exporter": "python",
   "pygments_lexer": "ipython3",
   "version": "3.7.5"
  }
 },
 "nbformat": 4,
 "nbformat_minor": 2
}
